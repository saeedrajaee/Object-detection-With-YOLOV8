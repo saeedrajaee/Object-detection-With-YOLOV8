{
  "nbformat": 4,
  "nbformat_minor": 0,
  "metadata": {
    "colab": {
      "provenance": [],
      "authorship_tag": "ABX9TyPe9qAbnxQOuMWdSp0wt3E3"
    },
    "kernelspec": {
      "name": "python3",
      "display_name": "Python 3"
    },
    "language_info": {
      "name": "python"
    }
  },
  "cells": [
    {
      "cell_type": "markdown",
      "source": [
        "**main**"
      ],
      "metadata": {
        "id": "FmMcKo8Fguhf"
      }
    },
    {
      "cell_type": "code",
      "source": [
        "!pip install ultralytics"
      ],
      "metadata": {
        "id": "MkoHbx2JhfQn"
      },
      "execution_count": null,
      "outputs": []
    },
    {
      "cell_type": "code",
      "source": [
        "from ultralytics import YOLO\n",
        "from IPython.display import display, Image\n",
        "import numpy as np\n",
        "import cv2"
      ],
      "metadata": {
        "id": "xiojFLXxPWnQ"
      },
      "execution_count": null,
      "outputs": []
    },
    {
      "cell_type": "code",
      "source": [
        "from google.colab import drive\n",
        "drive.mount('/content/gdrive')\n",
        "print(\"Drive is Ok..........\")"
      ],
      "metadata": {
        "colab": {
          "base_uri": "https://localhost:8080/"
        },
        "id": "SRgjKri6g2G4",
        "outputId": "69d06614-51b5-491e-b32f-e1f0a8923e8e"
      },
      "execution_count": null,
      "outputs": [
        {
          "output_type": "stream",
          "name": "stdout",
          "text": [
            "Mounted at /content/gdrive\n",
            "Drive is Ok..........\n"
          ]
        }
      ]
    },
    {
      "cell_type": "code",
      "source": [
        "# !echo -e 'path = /content/gdrive/MyDrive/YOLOV8\\ntrain = /content/images\\nval = /content/images\\nnames: \\n  0: build\\n  1: pool' > config.yaml\n",
        "# print(\"Ok..........\")"
      ],
      "metadata": {
        "id": "UnJbLAJNjkYt"
      },
      "execution_count": null,
      "outputs": []
    },
    {
      "cell_type": "code",
      "source": [
        "import yaml\n",
        "config = {'path': '/content/gdrive/MyDrive/YOLOV8',\n",
        "          'train': '/content/gdrive/MyDrive/YOLOV8/images',\n",
        "          'val': '/content/gdrive/MyDrive/YOLOV8/images',\n",
        "          'cn':2,\n",
        "          'names': ['build', 'Pool']\n",
        "         }"
      ],
      "metadata": {
        "id": "iQagxOj-r1wi"
      },
      "execution_count": null,
      "outputs": []
    },
    {
      "cell_type": "code",
      "source": [
        "with open(\"config.yaml\", \"w\") as file:\n",
        "   yaml.dump(config, file, default_flow_style=False)"
      ],
      "metadata": {
        "id": "UzGn9dvVsLDw"
      },
      "execution_count": null,
      "outputs": []
    },
    {
      "cell_type": "code",
      "source": [
        "!scp -r /content/config.yaml '/content/gdrive/MyDrive/YOLOV8'"
      ],
      "metadata": {
        "id": "lsRETWXuKWY6"
      },
      "execution_count": null,
      "outputs": []
    },
    {
      "cell_type": "code",
      "source": [
        "# !rm -rf \"/content/images\""
      ],
      "metadata": {
        "id": "zv6uNFhqo8Ea"
      },
      "execution_count": null,
      "outputs": []
    },
    {
      "cell_type": "code",
      "source": [
        "# !mkdir data/obj\n",
        "!unzip /content/gdrive/MyDrive/YOLOV8/images.zip -d images\n",
        "print(\"Ok..........\")"
      ],
      "metadata": {
        "id": "d3raAi9XjQSx"
      },
      "execution_count": null,
      "outputs": []
    },
    {
      "cell_type": "code",
      "source": [
        "# !scp -r /content/images '/content/gdrive/MyDrive/YOLOV8'\n",
        "print(\"Ok..........\")"
      ],
      "metadata": {
        "colab": {
          "base_uri": "https://localhost:8080/"
        },
        "id": "UeTUSps6KTLD",
        "outputId": "bde5a4ab-8888-487c-d999-63321ecf4dd9"
      },
      "execution_count": null,
      "outputs": [
        {
          "output_type": "stream",
          "name": "stdout",
          "text": [
            "Ok..........\n"
          ]
        }
      ]
    },
    {
      "cell_type": "code",
      "source": [
        "# !yolo detect train model=yolov8s.pt data=/content/gdrive/MyDrive/YOLOV8/config.yaml epochs=25 imgsz=224 batch=16 plots=True\n",
        "# !yolo detect train model=yolov8l.pt data=/content/gdrive/MyDrive/YOLOV8/config.yaml epochs=25 imgsz=224 batch=16 plots=True\n",
        "!yolo detect train model=yolov8x.pt data=/content/gdrive/MyDrive/YOLOV8/config.yaml epochs=100 imgsz=224 batch=16 plots=True"
      ],
      "metadata": {
        "id": "XKJU_HcB3UrI"
      },
      "execution_count": null,
      "outputs": []
    },
    {
      "cell_type": "code",
      "source": [
        "!scp -r /content/runs/detect/train/weights/best.pt '/content/gdrive/MyDrive/YOLOV8/runs/detect'"
      ],
      "metadata": {
        "id": "ilLsFJOGqBwS"
      },
      "execution_count": null,
      "outputs": []
    },
    {
      "cell_type": "code",
      "source": [
        "model = YOLO(\"/content/gdrive/MyDrive/YOLOV8/runs/detect/best.pt\")\n",
        "results = model.predict('/content/gdrive/MyDrive/YOLOV8/images/images/1 (2).JPG')\n",
        "result = results[0]\n",
        "output = []\n",
        "for box in result.boxes:\n",
        "    x1, y1, x2, y2 = [\n",
        "       round(x) for x in box.xyxy[0].tolist()\n",
        "    ]\n",
        "    class_id = box.cls[0].item()\n",
        "    prob = round(box.conf[0].item(), 2)\n",
        "    output.append([\n",
        "    x1, y1, x2, y2, result.names[class_id], prob\n",
        "    ])"
      ],
      "metadata": {
        "colab": {
          "base_uri": "https://localhost:8080/"
        },
        "id": "IX63OxxgrQj1",
        "outputId": "fad0618b-46d0-440a-a3bb-42e25c959d00"
      },
      "execution_count": null,
      "outputs": [
        {
          "output_type": "stream",
          "name": "stderr",
          "text": [
            "\n",
            "image 1/1 /content/gdrive/MyDrive/YOLOV8/images/images/1 (2).JPG: 224x224 1 build, 1 Pool, 24.5ms\n",
            "Speed: 1.2ms preprocess, 24.5ms inference, 2.8ms postprocess per image at shape (1, 3, 224, 224)\n"
          ]
        }
      ]
    },
    {
      "cell_type": "code",
      "source": [
        "from ultralytics import YOLO\n",
        "\n",
        "# Load a model\n",
        "model = YOLO(\"/content/gdrive/MyDrive/YOLOV8/runs/detect/best.pt\")\n",
        "  # pretrained YOLOv8n model\n",
        "\n",
        "# Run batched inference on a list of images\n",
        "results = model(['/content/1.jpg'])  # return a list of Results objects\n",
        "\n",
        "# Process results list\n",
        "for result in results:\n",
        "    boxes = result.boxes  # Boxes object for bbox outputs\n",
        "    masks = result.masks  # Masks object for segmentation masks outputs\n",
        "    keypoints = result.keypoints  # Keypoints object for pose outputs\n",
        "    probs = result.probs  # Probs object for classification outputs"
      ],
      "metadata": {
        "colab": {
          "base_uri": "https://localhost:8080/"
        },
        "id": "HBqM-wj4Zdot",
        "outputId": "b621c086-16d6-4ea8-feb2-f2b0477a38c5"
      },
      "execution_count": null,
      "outputs": [
        {
          "output_type": "stream",
          "name": "stderr",
          "text": [
            "\n",
            "0: 128x224 1 Pool, 10.1ms\n",
            "Speed: 0.6ms preprocess, 10.1ms inference, 1.4ms postprocess per image at shape (1, 3, 128, 224)\n"
          ]
        }
      ]
    },
    {
      "cell_type": "code",
      "source": [
        "from ultralytics import YOLO\n",
        "\n",
        "# Load a pretrained YOLOv8n model\n",
        "model = YOLO(\"/content/gdrive/MyDrive/YOLOV8/runs/detect/best.pt\")\n",
        "\n",
        "\n",
        "# Run inference on an image\n",
        "results = model('/content/gdrive/MyDrive/YOLOV8/images/images/1 (2).JPG') # results list\n",
        "\n",
        "# View results\n",
        "for r in results:\n",
        "    print(r.boxes)\n",
        "  # print the Boxes object containing the detection bounding boxes"
      ],
      "metadata": {
        "id": "yEfvca2gZweM"
      },
      "execution_count": null,
      "outputs": []
    },
    {
      "cell_type": "code",
      "source": [
        "import cv2\n",
        "import numpy as np\n",
        "import matplotlib.pyplot as plt\n",
        "from ultralytics import YOLO\n",
        "\n",
        "%matplotlib inline"
      ],
      "metadata": {
        "id": "LAQK73USqnpE"
      },
      "execution_count": null,
      "outputs": []
    },
    {
      "cell_type": "code",
      "source": [
        "# Load a pretrained YOLOv8n model\n",
        "model = YOLO(r\"best.pt\")\n",
        "\n",
        "Path = r'2.jpg'\n",
        "# Run inference on an image\n",
        "results = model.predict(Path) # results list\n",
        "\n",
        "# View results\n",
        "for r in results:\n",
        "    print(r.boxes)\n",
        "  # print the Boxes object containing the detection bounding boxes"
      ],
      "metadata": {
        "id": "0S5_p0UOqnrz"
      },
      "execution_count": null,
      "outputs": []
    },
    {
      "cell_type": "code",
      "source": [
        "img = cv2.imread(Path)\n",
        "bbx_thickness = (img.shape[0] + img.shape[1]) // 450\n",
        "count = 0\n",
        "array = ['build','pool']\n",
        "for r in results:\n",
        "    for box in r.boxes:\n",
        "        textString = \"\"\n",
        "#         Extract object class and confidence score\n",
        "        score = box.conf.item() * 100\n",
        "        class_id = int(box.cls.item())\n",
        "        x1 , y1 , x2, y2 = np.squeeze(box.xyxy.numpy()).astype(int)\n",
        "            # Print detection info\n",
        "        class_id = box.cls[0].item()\n",
        "        class_id = round(class_id)\n",
        "\n",
        "#         print(array[class_id])\n",
        "        prob = round(box.conf[0].item(), 2)\n",
        "#         textString += f\"{class_id}\"\n",
        "        textString += f\"{array[class_id]}\"\n",
        "        prob = prob * 100\n",
        "        textString += f\" {prob}%\"\n",
        "\n",
        "        # Calculate font scale based on object size\n",
        "        font = cv2.FONT_HERSHEY_COMPLEX\n",
        "        fontScale = (((x2 - x1) / img.shape[0]) + ((y2 - y1) / img.shape[1])) / 2 * 2.5\n",
        "        fontThickness = 1\n",
        "        textSize, baseline = cv2.getTextSize(textString, font, fontScale, fontThickness)\n",
        "\n",
        "        # Draw bounding box, a centroid and label on the image\n",
        "        img = cv2.rectangle(img, (x1,y1), (x2,y2), color = (255,0,0),  thickness=bbx_thickness)\n",
        "        center_coordinates = ((x1 + x2)//2, (y1 + y2) // 2)\n",
        "\n",
        "        img =  cv2.circle(img, center_coordinates, 5 , (0,0,255), -1)\n",
        "        if textString != \"\":\n",
        "            if (y1 < textSize[1]):\n",
        "                y1 = y1 + textSize[1]\n",
        "            else:\n",
        "                y1 -= 2\n",
        "            # show the details text in a filled rectangle\n",
        "#             img = cv2.rectangle(img, (x1, y1), (x1 + textSize[0] , y1 -  textSize[1]), color = (255,0,0), cv2.cv.CV_FILLED == -1)\n",
        "            img = cv2.rectangle(img, (x1, y1), (x1 + textSize[0] , y1 -  textSize[1]), color = (255,0,0))\n",
        "\n",
        "            img = cv2.putText(img, textString ,\n",
        "                (x1, y1), font,\n",
        "                fontScale,  (0, 0, 0), fontThickness, cv2.LINE_AA)\n",
        "\n",
        "cv2.imshow(\"Image\", img)\n",
        "cv2.waitKey(0)\n",
        "cv2.destroyAllWindows()"
      ],
      "metadata": {
        "id": "qkTNiTYWqnuD"
      },
      "execution_count": null,
      "outputs": []
    },
    {
      "cell_type": "code",
      "source": [],
      "metadata": {
        "id": "vVxZSuM1qnwz"
      },
      "execution_count": null,
      "outputs": []
    },
    {
      "cell_type": "code",
      "source": [
        "Source\n",
        "# https://docs.ultralytics.com/modes/predict/#working-with-results\n",
        "# https://www.freecodecamp.org/news/how-to-detect-objects-in-images-using-yolov8/"
      ],
      "metadata": {
        "id": "5_RXd6R6bxJP"
      },
      "execution_count": null,
      "outputs": []
    }
  ]
}